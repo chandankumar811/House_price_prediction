{
 "cells": [
  {
   "cell_type": "code",
   "execution_count": 237,
   "id": "d2955f6f",
   "metadata": {},
   "outputs": [],
   "source": [
    "import pandas as pd\n",
    "from sklearn.model_selection import train_test_split\n",
    "from sklearn.preprocessing import StandardScaler\n",
    "import numpy as np"
   ]
  },
  {
   "cell_type": "code",
   "execution_count": 238,
   "id": "b3bfd321",
   "metadata": {},
   "outputs": [],
   "source": [
    "train = pd.read_csv(\"../data/train.csv\")\n",
    "test = pd.read_csv(\"../data/test.csv\")"
   ]
  },
  {
   "cell_type": "code",
   "execution_count": 239,
   "id": "6aa10bc7",
   "metadata": {},
   "outputs": [
    {
     "data": {
      "text/plain": [
       "Index(['Id', 'MSSubClass', 'MSZoning', 'LotFrontage', 'LotArea', 'Street',\n",
       "       'Alley', 'LotShape', 'LandContour', 'Utilities', 'LotConfig',\n",
       "       'LandSlope', 'Neighborhood', 'Condition1', 'Condition2', 'BldgType',\n",
       "       'HouseStyle', 'OverallQual', 'OverallCond', 'YearBuilt', 'YearRemodAdd',\n",
       "       'RoofStyle', 'RoofMatl', 'Exterior1st', 'Exterior2nd', 'MasVnrType',\n",
       "       'MasVnrArea', 'ExterQual', 'ExterCond', 'Foundation', 'BsmtQual',\n",
       "       'BsmtCond', 'BsmtExposure', 'BsmtFinType1', 'BsmtFinSF1',\n",
       "       'BsmtFinType2', 'BsmtFinSF2', 'BsmtUnfSF', 'TotalBsmtSF', 'Heating',\n",
       "       'HeatingQC', 'CentralAir', 'Electrical', '1stFlrSF', '2ndFlrSF',\n",
       "       'LowQualFinSF', 'GrLivArea', 'BsmtFullBath', 'BsmtHalfBath', 'FullBath',\n",
       "       'HalfBath', 'BedroomAbvGr', 'KitchenAbvGr', 'KitchenQual',\n",
       "       'TotRmsAbvGrd', 'Functional', 'Fireplaces', 'FireplaceQu', 'GarageType',\n",
       "       'GarageYrBlt', 'GarageFinish', 'GarageCars', 'GarageArea', 'GarageQual',\n",
       "       'GarageCond', 'PavedDrive', 'WoodDeckSF', 'OpenPorchSF',\n",
       "       'EnclosedPorch', '3SsnPorch', 'ScreenPorch', 'PoolArea', 'PoolQC',\n",
       "       'Fence', 'MiscFeature', 'MiscVal', 'MoSold', 'YrSold', 'SaleType',\n",
       "       'SaleCondition'],\n",
       "      dtype='object')"
      ]
     },
     "execution_count": 239,
     "metadata": {},
     "output_type": "execute_result"
    }
   ],
   "source": [
    "test.columns"
   ]
  },
  {
   "cell_type": "code",
   "execution_count": 240,
   "id": "a634797a",
   "metadata": {},
   "outputs": [],
   "source": [
    "if \"Id\" in train.columns:\n",
    "    train = train.drop(columns=[\"Id\"])\n",
    "if \"Id\" in test.columns:\n",
    "    test = test.drop(columns=[\"Id\"])"
   ]
  },
  {
   "cell_type": "code",
   "execution_count": null,
   "id": "db4b587d",
   "metadata": {},
   "outputs": [],
   "source": []
  },
  {
   "cell_type": "code",
   "execution_count": 241,
   "id": "66d35972",
   "metadata": {},
   "outputs": [
    {
     "data": {
      "text/plain": [
       "Index(['MSSubClass', 'MSZoning', 'LotFrontage', 'LotArea', 'Street', 'Alley',\n",
       "       'LotShape', 'LandContour', 'Utilities', 'LotConfig', 'LandSlope',\n",
       "       'Neighborhood', 'Condition1', 'Condition2', 'BldgType', 'HouseStyle',\n",
       "       'OverallQual', 'OverallCond', 'YearBuilt', 'YearRemodAdd', 'RoofStyle',\n",
       "       'RoofMatl', 'Exterior1st', 'Exterior2nd', 'MasVnrType', 'MasVnrArea',\n",
       "       'ExterQual', 'ExterCond', 'Foundation', 'BsmtQual', 'BsmtCond',\n",
       "       'BsmtExposure', 'BsmtFinType1', 'BsmtFinSF1', 'BsmtFinType2',\n",
       "       'BsmtFinSF2', 'BsmtUnfSF', 'TotalBsmtSF', 'Heating', 'HeatingQC',\n",
       "       'CentralAir', 'Electrical', '1stFlrSF', '2ndFlrSF', 'LowQualFinSF',\n",
       "       'GrLivArea', 'BsmtFullBath', 'BsmtHalfBath', 'FullBath', 'HalfBath',\n",
       "       'BedroomAbvGr', 'KitchenAbvGr', 'KitchenQual', 'TotRmsAbvGrd',\n",
       "       'Functional', 'Fireplaces', 'FireplaceQu', 'GarageType', 'GarageYrBlt',\n",
       "       'GarageFinish', 'GarageCars', 'GarageArea', 'GarageQual', 'GarageCond',\n",
       "       'PavedDrive', 'WoodDeckSF', 'OpenPorchSF', 'EnclosedPorch', '3SsnPorch',\n",
       "       'ScreenPorch', 'PoolArea', 'PoolQC', 'Fence', 'MiscFeature', 'MiscVal',\n",
       "       'MoSold', 'YrSold', 'SaleType', 'SaleCondition'],\n",
       "      dtype='object')"
      ]
     },
     "execution_count": 241,
     "metadata": {},
     "output_type": "execute_result"
    }
   ],
   "source": [
    "test.columns"
   ]
  },
  {
   "cell_type": "code",
   "execution_count": 242,
   "id": "49709793",
   "metadata": {},
   "outputs": [],
   "source": [
    "num_cols = train.select_dtypes(include=[\"int64\", \"float64\"]).columns.drop(\"SalePrice\")\n",
    "cat_cols = train.select_dtypes(include=[\"object\"]).columns"
   ]
  },
  {
   "cell_type": "code",
   "execution_count": 243,
   "id": "969bf8c7",
   "metadata": {},
   "outputs": [
    {
     "name": "stdout",
     "output_type": "stream",
     "text": [
      "Index(['MSSubClass', 'LotFrontage', 'LotArea', 'OverallQual', 'OverallCond',\n",
      "       'YearBuilt', 'YearRemodAdd', 'MasVnrArea', 'BsmtFinSF1', 'BsmtFinSF2',\n",
      "       'BsmtUnfSF', 'TotalBsmtSF', '1stFlrSF', '2ndFlrSF', 'LowQualFinSF',\n",
      "       'GrLivArea', 'BsmtFullBath', 'BsmtHalfBath', 'FullBath', 'HalfBath',\n",
      "       'BedroomAbvGr', 'KitchenAbvGr', 'TotRmsAbvGrd', 'Fireplaces',\n",
      "       'GarageYrBlt', 'GarageCars', 'GarageArea', 'WoodDeckSF', 'OpenPorchSF',\n",
      "       'EnclosedPorch', '3SsnPorch', 'ScreenPorch', 'PoolArea', 'MiscVal',\n",
      "       'MoSold', 'YrSold'],\n",
      "      dtype='object')\n",
      "\n",
      "Catogaries\n"
     ]
    },
    {
     "data": {
      "text/plain": [
       "Index(['MSZoning', 'Street', 'Alley', 'LotShape', 'LandContour', 'Utilities',\n",
       "       'LotConfig', 'LandSlope', 'Neighborhood', 'Condition1', 'Condition2',\n",
       "       'BldgType', 'HouseStyle', 'RoofStyle', 'RoofMatl', 'Exterior1st',\n",
       "       'Exterior2nd', 'MasVnrType', 'ExterQual', 'ExterCond', 'Foundation',\n",
       "       'BsmtQual', 'BsmtCond', 'BsmtExposure', 'BsmtFinType1', 'BsmtFinType2',\n",
       "       'Heating', 'HeatingQC', 'CentralAir', 'Electrical', 'KitchenQual',\n",
       "       'Functional', 'FireplaceQu', 'GarageType', 'GarageFinish', 'GarageQual',\n",
       "       'GarageCond', 'PavedDrive', 'PoolQC', 'Fence', 'MiscFeature',\n",
       "       'SaleType', 'SaleCondition'],\n",
       "      dtype='object')"
      ]
     },
     "execution_count": 243,
     "metadata": {},
     "output_type": "execute_result"
    }
   ],
   "source": [
    "print(f\"{num_cols}\\n\")\n",
    "print(\"Catogaries\")\n",
    "cat_cols"
   ]
  },
  {
   "cell_type": "code",
   "execution_count": 244,
   "id": "a7f897c5",
   "metadata": {},
   "outputs": [],
   "source": [
    "for col in num_cols:\n",
    "    train.fillna({col: train[col].median()}, inplace=True)\n",
    "    test.fillna({col: test[col].median()}, inplace=True)\n",
    "\n",
    "for col in cat_cols:\n",
    "    train.fillna({col: \"Missing\"}, inplace=True)\n",
    "    test.fillna({col: \"Missing\"}, inplace=True)"
   ]
  },
  {
   "cell_type": "code",
   "execution_count": 245,
   "id": "60a1aac9",
   "metadata": {},
   "outputs": [],
   "source": [
    "x = train.drop(columns=[\"SalePrice\"])\n",
    "y = train[\"SalePrice\"]"
   ]
  },
  {
   "cell_type": "code",
   "execution_count": 246,
   "id": "90cd36cc",
   "metadata": {},
   "outputs": [],
   "source": [
    "if True:\n",
    "    y = np.log1p(y)"
   ]
  },
  {
   "cell_type": "code",
   "execution_count": 247,
   "id": "73d639aa",
   "metadata": {},
   "outputs": [],
   "source": [
    "x = pd.get_dummies(x, drop_first=True)\n",
    "test = pd.get_dummies(test, drop_first=True)"
   ]
  },
  {
   "cell_type": "code",
   "execution_count": 248,
   "id": "8102283f",
   "metadata": {},
   "outputs": [
    {
     "name": "stdout",
     "output_type": "stream",
     "text": [
      "      MSSubClass  LotFrontage  LotArea  OverallQual  OverallCond  YearBuilt  \\\n",
      "0             60         65.0     8450            7            5       2003   \n",
      "1             20         80.0     9600            6            8       1976   \n",
      "2             60         68.0    11250            7            5       2001   \n",
      "3             70         60.0     9550            7            5       1915   \n",
      "4             60         84.0    14260            8            5       2000   \n",
      "...          ...          ...      ...          ...          ...        ...   \n",
      "1455          60         62.0     7917            6            5       1999   \n",
      "1456          20         85.0    13175            6            6       1978   \n",
      "1457          70         66.0     9042            7            9       1941   \n",
      "1458          20         68.0     9717            5            6       1950   \n",
      "1459          20         75.0     9937            5            6       1965   \n",
      "\n",
      "      YearRemodAdd  MasVnrArea  BsmtFinSF1  BsmtFinSF2  ...  SaleType_ConLI  \\\n",
      "0             2003       196.0         706           0  ...           False   \n",
      "1             1976         0.0         978           0  ...           False   \n",
      "2             2002       162.0         486           0  ...           False   \n",
      "3             1970         0.0         216           0  ...           False   \n",
      "4             2000       350.0         655           0  ...           False   \n",
      "...            ...         ...         ...         ...  ...             ...   \n",
      "1455          2000         0.0           0           0  ...           False   \n",
      "1456          1988       119.0         790         163  ...           False   \n",
      "1457          2006         0.0         275           0  ...           False   \n",
      "1458          1996         0.0          49        1029  ...           False   \n",
      "1459          1965         0.0         830         290  ...           False   \n",
      "\n",
      "      SaleType_ConLw  SaleType_New  SaleType_Oth  SaleType_WD  \\\n",
      "0              False         False         False         True   \n",
      "1              False         False         False         True   \n",
      "2              False         False         False         True   \n",
      "3              False         False         False         True   \n",
      "4              False         False         False         True   \n",
      "...              ...           ...           ...          ...   \n",
      "1455           False         False         False         True   \n",
      "1456           False         False         False         True   \n",
      "1457           False         False         False         True   \n",
      "1458           False         False         False         True   \n",
      "1459           False         False         False         True   \n",
      "\n",
      "      SaleCondition_AdjLand  SaleCondition_Alloca  SaleCondition_Family  \\\n",
      "0                     False                 False                 False   \n",
      "1                     False                 False                 False   \n",
      "2                     False                 False                 False   \n",
      "3                     False                 False                 False   \n",
      "4                     False                 False                 False   \n",
      "...                     ...                   ...                   ...   \n",
      "1455                  False                 False                 False   \n",
      "1456                  False                 False                 False   \n",
      "1457                  False                 False                 False   \n",
      "1458                  False                 False                 False   \n",
      "1459                  False                 False                 False   \n",
      "\n",
      "      SaleCondition_Normal  SaleCondition_Partial  \n",
      "0                     True                  False  \n",
      "1                     True                  False  \n",
      "2                     True                  False  \n",
      "3                    False                  False  \n",
      "4                     True                  False  \n",
      "...                    ...                    ...  \n",
      "1455                  True                  False  \n",
      "1456                  True                  False  \n",
      "1457                  True                  False  \n",
      "1458                  True                  False  \n",
      "1459                  True                  False  \n",
      "\n",
      "[1460 rows x 260 columns]\n"
     ]
    }
   ],
   "source": [
    "print(x)\n",
    "x.to_csv(\"x.csv\")"
   ]
  },
  {
   "cell_type": "code",
   "execution_count": 249,
   "id": "d5cd7b3a",
   "metadata": {},
   "outputs": [],
   "source": [
    "x, test = x.align(test, join=\"left\", axis=1, fill_value=0)"
   ]
  },
  {
   "cell_type": "code",
   "execution_count": 250,
   "id": "0d1faccd",
   "metadata": {},
   "outputs": [],
   "source": [
    "x_train,x_val, y_train, y_val = train_test_split(x, y, test_size=0.2, random_state=42)"
   ]
  },
  {
   "cell_type": "code",
   "execution_count": 251,
   "id": "01065be0",
   "metadata": {},
   "outputs": [
    {
     "data": {
      "text/plain": [
       "['scaler.pkl']"
      ]
     },
     "execution_count": 251,
     "metadata": {},
     "output_type": "execute_result"
    }
   ],
   "source": [
    "import joblib\n",
    "scaler = StandardScaler()\n",
    "x_train = scaler.fit_transform(x_train)\n",
    "x_val = scaler.transform(x_val)\n",
    "test = scaler.transform(test)\n",
    "joblib.dump(scaler, \"scaler.pkl\")\n"
   ]
  },
  {
   "cell_type": "code",
   "execution_count": 252,
   "id": "52386591",
   "metadata": {},
   "outputs": [],
   "source": [
    "from sklearn.linear_model import LinearRegression, Ridge, Lasso\n",
    "from sklearn.ensemble import RandomForestRegressor\n",
    "from sklearn.metrics import mean_squared_error, mean_absolute_error, r2_score"
   ]
  },
  {
   "cell_type": "code",
   "execution_count": 253,
   "id": "398336c0",
   "metadata": {},
   "outputs": [],
   "source": [
    "models = {\n",
    "    \"LinearRegression\": LinearRegression(),\n",
    "    \"Ridge\": Ridge(alpha=1.0),\n",
    "    \"Lasso\": Lasso(alpha=0.001, max_iter=10000),\n",
    "    \"RandomForest\": RandomForestRegressor(n_estimators=100, random_state=42)\n",
    "}\n",
    "\n",
    "trained_model = {}\n",
    "for name, model in models.items():\n",
    "    model.fit(x_train, y_train)\n",
    "    trained_model[name] = model\n",
    "    joblib.dump(model, f\"{name}.pkl\")\n",
    "    \n"
   ]
  },
  {
   "cell_type": "code",
   "execution_count": 254,
   "id": "2c35ad1a",
   "metadata": {},
   "outputs": [
    {
     "name": "stdout",
     "output_type": "stream",
     "text": [
      "LinearRegression: RMSE = 0.17\n",
      "Ridge: RMSE = 0.17\n",
      "Lasso: RMSE = 0.16\n",
      "RandomForest: RMSE = 0.15\n",
      "\n",
      "Best Model: RandomForest with RMSE = 0.15\n"
     ]
    }
   ],
   "source": [
    "results = {}\n",
    "\n",
    "for name, model in models.items():\n",
    "    preds = model.predict(x_val)\n",
    "    rmse = np.sqrt(mean_squared_error(y_val, preds))\n",
    "    results[name] = rmse  # store results\n",
    "    print(f\"{name}: RMSE = {rmse:.2f}\")\n",
    "\n",
    "# find best model\n",
    "best_model_name = min(results, key=results.get)  # model with lowest RMSE\n",
    "best_rmse = results[best_model_name]\n",
    "\n",
    "print(\"\\nBest Model:\", best_model_name, \"with RMSE =\", round(best_rmse, 2))\n"
   ]
  },
  {
   "cell_type": "code",
   "execution_count": 257,
   "id": "b7494fa3",
   "metadata": {},
   "outputs": [],
   "source": [
    "input_data = [60,65.0,8450,7,5,2003,2003,196.0,706,0,150,856,856,854,0,1710,1,0,2,1,3,1,8,0,2003.0,2,548,0,61,0,0,0,0,0,2,2008,False,False,True,False,True,True,False,False,False,True,False,False,True,False,False,False,False,True,False,False,False,False,False,False,True,False,False,False,False,False,False,False,False,False,False,False,False,False,False,False,False,False,False,False,False,True,False,False,False,False,False,False,False,True,False,False,False,False,False,False,False,False,False,False,False,False,False,True,False,False,True,False,False,False,False,True,False,False,False,False,False,False,False,False,False,False,False,False,False,False,False,False,False,True,False,False,False,False,False,False,False,False,False,False,False,False,False,False,True,False,False,True,False,False,False,True,False,False,False,False,True,False,True,False,False,False,False,True,False,False,False,False,False,True,False,False,False,True,False,True,False,False,False,False,False,False,False,False,False,True,True,False,False,False,False,False,False,False,False,True,False,False,False,False,True,False,True,False,False,False,False,False,False,True,False,False,True,False,False,True,False,False,False,False,False,False,True,False,False,False,False,False,True,False,False,False,False,True,False,True,False,False,True,False,True,False,False,True,False,False,False,False,False,False,False,False,False,False,True,False,False,False,True,False\n",
    "]"
   ]
  },
  {
   "cell_type": "code",
   "execution_count": 258,
   "id": "d79230e0",
   "metadata": {},
   "outputs": [
    {
     "name": "stdout",
     "output_type": "stream",
     "text": [
      "208328\n"
     ]
    },
    {
     "name": "stderr",
     "output_type": "stream",
     "text": [
      "c:\\Users\\Chandan Kumar\\AppData\\Local\\Programs\\Python\\Python313\\Lib\\site-packages\\sklearn\\utils\\validation.py:2749: UserWarning: X does not have valid feature names, but StandardScaler was fitted with feature names\n",
      "  warnings.warn(\n"
     ]
    }
   ],
   "source": [
    "input_arry = np.array(input_data).reshape(1, -1)\n",
    "\n",
    "model = joblib.load(\"./RandomForest.pkl\")\n",
    "scaler = joblib.load(\"./scaler.pkl\")\n",
    "\n",
    "input_scaled = scaler.transform(input_arry)\n",
    "\n",
    "prediction = model.predict(input_scaled)\n",
    "\n",
    "actual_prediction = np.expm1(prediction)\n",
    "\n",
    "print(round(actual_prediction[0]))"
   ]
  },
  {
   "cell_type": "code",
   "execution_count": null,
   "id": "66419903",
   "metadata": {},
   "outputs": [],
   "source": []
  },
  {
   "cell_type": "code",
   "execution_count": null,
   "id": "87dc10bd",
   "metadata": {},
   "outputs": [],
   "source": []
  },
  {
   "cell_type": "code",
   "execution_count": null,
   "id": "0a1e3bfc",
   "metadata": {},
   "outputs": [],
   "source": []
  },
  {
   "cell_type": "code",
   "execution_count": null,
   "id": "e21c6ae8",
   "metadata": {},
   "outputs": [],
   "source": []
  }
 ],
 "metadata": {
  "kernelspec": {
   "display_name": "Python 3",
   "language": "python",
   "name": "python3"
  },
  "language_info": {
   "codemirror_mode": {
    "name": "ipython",
    "version": 3
   },
   "file_extension": ".py",
   "mimetype": "text/x-python",
   "name": "python",
   "nbconvert_exporter": "python",
   "pygments_lexer": "ipython3",
   "version": "3.13.5"
  }
 },
 "nbformat": 4,
 "nbformat_minor": 5
}
